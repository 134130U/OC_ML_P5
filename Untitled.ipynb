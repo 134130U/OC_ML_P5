{
 "cells": [
  {
   "cell_type": "code",
   "execution_count": 1,
   "id": "0ddaccd8-5f1d-49bb-9489-53c8704c9742",
   "metadata": {},
   "outputs": [
    {
     "name": "stderr",
     "output_type": "stream",
     "text": [
      "/home/babou/.local/lib/python3.8/site-packages/scipy/__init__.py:146: UserWarning: A NumPy version >=1.16.5 and <1.23.0 is required for this version of SciPy (detected version 1.24.4\n",
      "  warnings.warn(f\"A NumPy version >={np_minversion} and <{np_maxversion}\"\n"
     ]
    }
   ],
   "source": [
    "import pandas as pd\n",
    "import numpy as np\n",
    "import seaborn as sns\n",
    "import spacy"
   ]
  },
  {
   "cell_type": "code",
   "execution_count": 2,
   "id": "937fbd81-a550-4998-a5a5-900da7834d25",
   "metadata": {},
   "outputs": [],
   "source": [
    "df = pd.read_csv('data/QueryResults.csv')"
   ]
  },
  {
   "cell_type": "code",
   "execution_count": 3,
   "id": "be0148d9-f28f-4529-b0a5-7ec0e73b4703",
   "metadata": {},
   "outputs": [
    {
     "data": {
      "text/html": [
       "<div>\n",
       "<style scoped>\n",
       "    .dataframe tbody tr th:only-of-type {\n",
       "        vertical-align: middle;\n",
       "    }\n",
       "\n",
       "    .dataframe tbody tr th {\n",
       "        vertical-align: top;\n",
       "    }\n",
       "\n",
       "    .dataframe thead th {\n",
       "        text-align: right;\n",
       "    }\n",
       "</style>\n",
       "<table border=\"1\" class=\"dataframe\">\n",
       "  <thead>\n",
       "    <tr style=\"text-align: right;\">\n",
       "      <th></th>\n",
       "      <th>Title</th>\n",
       "      <th>Body</th>\n",
       "      <th>Tags</th>\n",
       "      <th>Id</th>\n",
       "      <th>Score</th>\n",
       "      <th>ViewCount</th>\n",
       "      <th>FavoriteCount</th>\n",
       "      <th>AnswerCount</th>\n",
       "    </tr>\n",
       "  </thead>\n",
       "  <tbody>\n",
       "    <tr>\n",
       "      <th>0</th>\n",
       "      <td>AttributeError: module 'tensorflow' has no att...</td>\n",
       "      <td>&lt;p&gt;I just tried to enable eager execution in m...</td>\n",
       "      <td>&lt;python&gt;&lt;tensorflow&gt;&lt;machine-learning&gt;&lt;anacond...</td>\n",
       "      <td>58406191</td>\n",
       "      <td>14</td>\n",
       "      <td>37276</td>\n",
       "      <td>0.0</td>\n",
       "      <td>7</td>\n",
       "    </tr>\n",
       "    <tr>\n",
       "      <th>1</th>\n",
       "      <td>Spring vs Jboss</td>\n",
       "      <td>&lt;p&gt;What are the advantages and disadvantages f...</td>\n",
       "      <td>&lt;spring&gt;&lt;jakarta-ee&gt;&lt;jboss&gt;&lt;comparison&gt;&lt;seam&gt;</td>\n",
       "      <td>627839</td>\n",
       "      <td>20</td>\n",
       "      <td>32638</td>\n",
       "      <td>0.0</td>\n",
       "      <td>7</td>\n",
       "    </tr>\n",
       "    <tr>\n",
       "      <th>2</th>\n",
       "      <td>StringDictionary vs Dictionary&lt;string, string&gt;</td>\n",
       "      <td>&lt;p&gt;Does anyone have any idea what the practica...</td>\n",
       "      <td>&lt;generics&gt;&lt;.net-3.5&gt;&lt;collections&gt;&lt;dictionary&gt;&lt;...</td>\n",
       "      <td>627716</td>\n",
       "      <td>83</td>\n",
       "      <td>27364</td>\n",
       "      <td>0.0</td>\n",
       "      <td>7</td>\n",
       "    </tr>\n",
       "    <tr>\n",
       "      <th>3</th>\n",
       "      <td>How to Accept JSON input in Spring Restful Web...</td>\n",
       "      <td>&lt;p&gt;I am having hard time accepting JSON input ...</td>\n",
       "      <td>&lt;java&gt;&lt;json&gt;&lt;spring&gt;&lt;web-services&gt;&lt;spring-mvc&gt;</td>\n",
       "      <td>19992623</td>\n",
       "      <td>7</td>\n",
       "      <td>29406</td>\n",
       "      <td>0.0</td>\n",
       "      <td>3</td>\n",
       "    </tr>\n",
       "    <tr>\n",
       "      <th>4</th>\n",
       "      <td>How to not serialize the __type property on JS...</td>\n",
       "      <td>&lt;p&gt;Every object I return from a &lt;code&gt;WebMetho...</td>\n",
       "      <td>&lt;c#&gt;&lt;asp.net&gt;&lt;json&gt;&lt;asmx&gt;&lt;javascriptserializer&gt;</td>\n",
       "      <td>627356</td>\n",
       "      <td>69</td>\n",
       "      <td>37825</td>\n",
       "      <td>0.0</td>\n",
       "      <td>17</td>\n",
       "    </tr>\n",
       "  </tbody>\n",
       "</table>\n",
       "</div>"
      ],
      "text/plain": [
       "                                               Title  \\\n",
       "0  AttributeError: module 'tensorflow' has no att...   \n",
       "1                                    Spring vs Jboss   \n",
       "2     StringDictionary vs Dictionary<string, string>   \n",
       "3  How to Accept JSON input in Spring Restful Web...   \n",
       "4  How to not serialize the __type property on JS...   \n",
       "\n",
       "                                                Body  \\\n",
       "0  <p>I just tried to enable eager execution in m...   \n",
       "1  <p>What are the advantages and disadvantages f...   \n",
       "2  <p>Does anyone have any idea what the practica...   \n",
       "3  <p>I am having hard time accepting JSON input ...   \n",
       "4  <p>Every object I return from a <code>WebMetho...   \n",
       "\n",
       "                                                Tags        Id  Score  \\\n",
       "0  <python><tensorflow><machine-learning><anacond...  58406191     14   \n",
       "1      <spring><jakarta-ee><jboss><comparison><seam>    627839     20   \n",
       "2  <generics><.net-3.5><collections><dictionary><...    627716     83   \n",
       "3     <java><json><spring><web-services><spring-mvc>  19992623      7   \n",
       "4    <c#><asp.net><json><asmx><javascriptserializer>    627356     69   \n",
       "\n",
       "   ViewCount  FavoriteCount  AnswerCount  \n",
       "0      37276            0.0            7  \n",
       "1      32638            0.0            7  \n",
       "2      27364            0.0            7  \n",
       "3      29406            0.0            3  \n",
       "4      37825            0.0           17  "
      ]
     },
     "execution_count": 3,
     "metadata": {},
     "output_type": "execute_result"
    }
   ],
   "source": [
    "df.head()"
   ]
  },
  {
   "cell_type": "code",
   "execution_count": 4,
   "id": "0603981e-fddd-4c3e-9a0c-ea10f30d12a4",
   "metadata": {},
   "outputs": [
    {
     "data": {
      "text/plain": [
       "(50000, 8)"
      ]
     },
     "execution_count": 4,
     "metadata": {},
     "output_type": "execute_result"
    }
   ],
   "source": [
    "df.shape"
   ]
  },
  {
   "cell_type": "markdown",
   "id": "4f7a5f23-592b-4c97-bfb7-bb6b802cb7e6",
   "metadata": {},
   "source": [
    "## Traitement du texte"
   ]
  },
  {
   "cell_type": "code",
   "execution_count": 5,
   "id": "54b204c9-0d0d-45ce-8de4-ec8f4bbbcf14",
   "metadata": {},
   "outputs": [
    {
     "name": "stdout",
     "output_type": "stream",
     "text": [
      "Dix première observations\n"
     ]
    },
    {
     "data": {
      "text/html": [
       "<div>\n",
       "<style scoped>\n",
       "    .dataframe tbody tr th:only-of-type {\n",
       "        vertical-align: middle;\n",
       "    }\n",
       "\n",
       "    .dataframe tbody tr th {\n",
       "        vertical-align: top;\n",
       "    }\n",
       "\n",
       "    .dataframe thead th {\n",
       "        text-align: right;\n",
       "    }\n",
       "</style>\n",
       "<table border=\"1\" class=\"dataframe\">\n",
       "  <thead>\n",
       "    <tr style=\"text-align: right;\">\n",
       "      <th></th>\n",
       "      <th>Title</th>\n",
       "      <th>Body</th>\n",
       "      <th>Tags</th>\n",
       "      <th>Id</th>\n",
       "      <th>Score</th>\n",
       "      <th>ViewCount</th>\n",
       "      <th>FavoriteCount</th>\n",
       "      <th>AnswerCount</th>\n",
       "      <th>Post</th>\n",
       "    </tr>\n",
       "  </thead>\n",
       "  <tbody>\n",
       "    <tr>\n",
       "      <th>0</th>\n",
       "      <td>AttributeError: module 'tensorflow' has no att...</td>\n",
       "      <td>&lt;p&gt;I just tried to enable eager execution in m...</td>\n",
       "      <td>&lt;python&gt;&lt;tensorflow&gt;&lt;machine-learning&gt;&lt;anacond...</td>\n",
       "      <td>58406191</td>\n",
       "      <td>14</td>\n",
       "      <td>37276</td>\n",
       "      <td>0.0</td>\n",
       "      <td>7</td>\n",
       "      <td>AttributeError: module 'tensorflow' has no att...</td>\n",
       "    </tr>\n",
       "    <tr>\n",
       "      <th>1</th>\n",
       "      <td>Spring vs Jboss</td>\n",
       "      <td>&lt;p&gt;What are the advantages and disadvantages f...</td>\n",
       "      <td>&lt;spring&gt;&lt;jakarta-ee&gt;&lt;jboss&gt;&lt;comparison&gt;&lt;seam&gt;</td>\n",
       "      <td>627839</td>\n",
       "      <td>20</td>\n",
       "      <td>32638</td>\n",
       "      <td>0.0</td>\n",
       "      <td>7</td>\n",
       "      <td>Spring vs Jboss &lt;p&gt;What are the advantages and...</td>\n",
       "    </tr>\n",
       "    <tr>\n",
       "      <th>2</th>\n",
       "      <td>StringDictionary vs Dictionary&lt;string, string&gt;</td>\n",
       "      <td>&lt;p&gt;Does anyone have any idea what the practica...</td>\n",
       "      <td>&lt;generics&gt;&lt;.net-3.5&gt;&lt;collections&gt;&lt;dictionary&gt;&lt;...</td>\n",
       "      <td>627716</td>\n",
       "      <td>83</td>\n",
       "      <td>27364</td>\n",
       "      <td>0.0</td>\n",
       "      <td>7</td>\n",
       "      <td>StringDictionary vs Dictionary&lt;string, string&gt;...</td>\n",
       "    </tr>\n",
       "    <tr>\n",
       "      <th>3</th>\n",
       "      <td>How to Accept JSON input in Spring Restful Web...</td>\n",
       "      <td>&lt;p&gt;I am having hard time accepting JSON input ...</td>\n",
       "      <td>&lt;java&gt;&lt;json&gt;&lt;spring&gt;&lt;web-services&gt;&lt;spring-mvc&gt;</td>\n",
       "      <td>19992623</td>\n",
       "      <td>7</td>\n",
       "      <td>29406</td>\n",
       "      <td>0.0</td>\n",
       "      <td>3</td>\n",
       "      <td>How to Accept JSON input in Spring Restful Web...</td>\n",
       "    </tr>\n",
       "    <tr>\n",
       "      <th>4</th>\n",
       "      <td>How to not serialize the __type property on JS...</td>\n",
       "      <td>&lt;p&gt;Every object I return from a &lt;code&gt;WebMetho...</td>\n",
       "      <td>&lt;c#&gt;&lt;asp.net&gt;&lt;json&gt;&lt;asmx&gt;&lt;javascriptserializer&gt;</td>\n",
       "      <td>627356</td>\n",
       "      <td>69</td>\n",
       "      <td>37825</td>\n",
       "      <td>0.0</td>\n",
       "      <td>17</td>\n",
       "      <td>How to not serialize the __type property on JS...</td>\n",
       "    </tr>\n",
       "    <tr>\n",
       "      <th>5</th>\n",
       "      <td>IMemoryCache, refresh cache before eviction</td>\n",
       "      <td>&lt;p&gt;I am trying to migrate my .Net framework ap...</td>\n",
       "      <td>&lt;c#&gt;&lt;asp.net-core&gt;&lt;caching&gt;&lt;.net-core&gt;&lt;memoryc...</td>\n",
       "      <td>58406476</td>\n",
       "      <td>15</td>\n",
       "      <td>9382</td>\n",
       "      <td>0.0</td>\n",
       "      <td>6</td>\n",
       "      <td>IMemoryCache, refresh cache before eviction &lt;p...</td>\n",
       "    </tr>\n",
       "    <tr>\n",
       "      <th>6</th>\n",
       "      <td>WooCommerce customer order detail in BS Modal</td>\n",
       "      <td>&lt;p&gt;In a WordPress website running WooCommerce,...</td>\n",
       "      <td>&lt;php&gt;&lt;wordpress&gt;&lt;woocommerce&gt;&lt;modal-dialog&gt;&lt;or...</td>\n",
       "      <td>39070007</td>\n",
       "      <td>11</td>\n",
       "      <td>3211</td>\n",
       "      <td>0.0</td>\n",
       "      <td>3</td>\n",
       "      <td>WooCommerce customer order detail in BS Modal ...</td>\n",
       "    </tr>\n",
       "    <tr>\n",
       "      <th>7</th>\n",
       "      <td>How to build and deploy a Linux driver?</td>\n",
       "      <td>&lt;p&gt;I am using ubuntu, but the question is for ...</td>\n",
       "      <td>&lt;c&gt;&lt;linux&gt;&lt;ubuntu&gt;&lt;linux-kernel&gt;&lt;kernel&gt;</td>\n",
       "      <td>19992731</td>\n",
       "      <td>10</td>\n",
       "      <td>20035</td>\n",
       "      <td>0.0</td>\n",
       "      <td>2</td>\n",
       "      <td>How to build and deploy a Linux driver? &lt;p&gt;I a...</td>\n",
       "    </tr>\n",
       "    <tr>\n",
       "      <th>8</th>\n",
       "      <td>Can I convert a string to enum without macros ...</td>\n",
       "      <td>&lt;p&gt;For example, if I have code like:&lt;/p&gt;\\n\\n&lt;p...</td>\n",
       "      <td>&lt;string&gt;&lt;parsing&gt;&lt;enums&gt;&lt;macros&gt;&lt;rust&gt;</td>\n",
       "      <td>39070244</td>\n",
       "      <td>58</td>\n",
       "      <td>38722</td>\n",
       "      <td>0.0</td>\n",
       "      <td>3</td>\n",
       "      <td>Can I convert a string to enum without macros ...</td>\n",
       "    </tr>\n",
       "    <tr>\n",
       "      <th>9</th>\n",
       "      <td>UNIX command to list folders with file counts</td>\n",
       "      <td>&lt;p&gt;I want to get a list of folders at the curr...</td>\n",
       "      <td>&lt;linux&gt;&lt;bash&gt;&lt;unix&gt;&lt;shell&gt;&lt;command&gt;</td>\n",
       "      <td>628662</td>\n",
       "      <td>18</td>\n",
       "      <td>28491</td>\n",
       "      <td>0.0</td>\n",
       "      <td>5</td>\n",
       "      <td>UNIX command to list folders with file counts ...</td>\n",
       "    </tr>\n",
       "  </tbody>\n",
       "</table>\n",
       "</div>"
      ],
      "text/plain": [
       "                                               Title  \\\n",
       "0  AttributeError: module 'tensorflow' has no att...   \n",
       "1                                    Spring vs Jboss   \n",
       "2     StringDictionary vs Dictionary<string, string>   \n",
       "3  How to Accept JSON input in Spring Restful Web...   \n",
       "4  How to not serialize the __type property on JS...   \n",
       "5        IMemoryCache, refresh cache before eviction   \n",
       "6      WooCommerce customer order detail in BS Modal   \n",
       "7            How to build and deploy a Linux driver?   \n",
       "8  Can I convert a string to enum without macros ...   \n",
       "9      UNIX command to list folders with file counts   \n",
       "\n",
       "                                                Body  \\\n",
       "0  <p>I just tried to enable eager execution in m...   \n",
       "1  <p>What are the advantages and disadvantages f...   \n",
       "2  <p>Does anyone have any idea what the practica...   \n",
       "3  <p>I am having hard time accepting JSON input ...   \n",
       "4  <p>Every object I return from a <code>WebMetho...   \n",
       "5  <p>I am trying to migrate my .Net framework ap...   \n",
       "6  <p>In a WordPress website running WooCommerce,...   \n",
       "7  <p>I am using ubuntu, but the question is for ...   \n",
       "8  <p>For example, if I have code like:</p>\\n\\n<p...   \n",
       "9  <p>I want to get a list of folders at the curr...   \n",
       "\n",
       "                                                Tags        Id  Score  \\\n",
       "0  <python><tensorflow><machine-learning><anacond...  58406191     14   \n",
       "1      <spring><jakarta-ee><jboss><comparison><seam>    627839     20   \n",
       "2  <generics><.net-3.5><collections><dictionary><...    627716     83   \n",
       "3     <java><json><spring><web-services><spring-mvc>  19992623      7   \n",
       "4    <c#><asp.net><json><asmx><javascriptserializer>    627356     69   \n",
       "5  <c#><asp.net-core><caching><.net-core><memoryc...  58406476     15   \n",
       "6  <php><wordpress><woocommerce><modal-dialog><or...  39070007     11   \n",
       "7           <c><linux><ubuntu><linux-kernel><kernel>  19992731     10   \n",
       "8             <string><parsing><enums><macros><rust>  39070244     58   \n",
       "9                <linux><bash><unix><shell><command>    628662     18   \n",
       "\n",
       "   ViewCount  FavoriteCount  AnswerCount  \\\n",
       "0      37276            0.0            7   \n",
       "1      32638            0.0            7   \n",
       "2      27364            0.0            7   \n",
       "3      29406            0.0            3   \n",
       "4      37825            0.0           17   \n",
       "5       9382            0.0            6   \n",
       "6       3211            0.0            3   \n",
       "7      20035            0.0            2   \n",
       "8      38722            0.0            3   \n",
       "9      28491            0.0            5   \n",
       "\n",
       "                                                Post  \n",
       "0  AttributeError: module 'tensorflow' has no att...  \n",
       "1  Spring vs Jboss <p>What are the advantages and...  \n",
       "2  StringDictionary vs Dictionary<string, string>...  \n",
       "3  How to Accept JSON input in Spring Restful Web...  \n",
       "4  How to not serialize the __type property on JS...  \n",
       "5  IMemoryCache, refresh cache before eviction <p...  \n",
       "6  WooCommerce customer order detail in BS Modal ...  \n",
       "7  How to build and deploy a Linux driver? <p>I a...  \n",
       "8  Can I convert a string to enum without macros ...  \n",
       "9  UNIX command to list folders with file counts ...  "
      ]
     },
     "metadata": {},
     "output_type": "display_data"
    },
    {
     "name": "stdout",
     "output_type": "stream",
     "text": [
      "Premier élément de la liste corpus\n",
      "\n"
     ]
    },
    {
     "data": {
      "text/plain": [
       "'AttributeError: module \\'tensorflow\\' has no attribute \\'enable_eager_execution\\' <p>I just tried to enable eager execution in my shell which is actually showing an error:</p>\\n<pre><code>AttributeError: module \\'tensorflow\\' has no attribute \\'enable_eager_execution\\'\\n</code></pre>\\n<p>My Tensorflow version is 2.0</p>\\n<p><img src=\"https://i.stack.imgur.com/0H1iz.png\" alt=\"The image shows my tensorflow version\" /></p>\\n<p>can anyone tell me why am I getting this...</p>\\n<p>Thanks in advance</p>\\n'"
      ]
     },
     "metadata": {},
     "output_type": "display_data"
    },
    {
     "name": "stdout",
     "output_type": "stream",
     "text": [
      "\n",
      "\n",
      "Premier éléments de la liste tags\n",
      "\n"
     ]
    },
    {
     "data": {
      "text/plain": [
       "'<python><tensorflow><machine-learning><anaconda><tensorflow2.0>'"
      ]
     },
     "metadata": {},
     "output_type": "display_data"
    },
    {
     "name": "stdout",
     "output_type": "stream",
     "text": [
      "Occurences dans le corpus: 50000\n",
      "Occurences dans les tags: 50000\n"
     ]
    }
   ],
   "source": [
    "df['Post'] = df.apply(lambda x: x['Title'] + ' ' + x['Body'] if x['Title'] != x['Body'] else x['Body'], axis=1)\n",
    "corpus = df['Post'].to_list()\n",
    "tags = df['Tags'].to_list()\n",
    "\n",
    "print(\"Dix première observations\")\n",
    "display(df.head(10))\n",
    "\n",
    "print(\"Premier élément de la liste corpus\\n\")\n",
    "display(corpus[0])\n",
    "print(\"\\n\")\n",
    "\n",
    "print(\"Premier éléments de la liste tags\\n\")\n",
    "display(tags[0])\n",
    "\n",
    "print(f\"Occurences dans le corpus: {len(corpus)}\")\n",
    "print(f\"Occurences dans les tags: {len(tags)}\")"
   ]
  },
  {
   "cell_type": "code",
   "execution_count": 6,
   "id": "75e7020d-f3f3-4fd1-bd43-a4c7736e0aa3",
   "metadata": {},
   "outputs": [
    {
     "name": "stdout",
     "output_type": "stream",
     "text": [
      "Premier élément de la liste corpus sans html\n",
      "\n"
     ]
    },
    {
     "data": {
      "text/plain": [
       "\"AttributeError: module 'tensorflow' has no attribute 'enable_eager_execution' I just tried to enable eager execution in my shell which is actually showing an error: AttributeError: module 'tensorflow' has no attribute 'enable_eager_execution' My Tensorflow version is 2.0 can anyone tell me why am I getting this... Thanks in advance\""
      ]
     },
     "metadata": {},
     "output_type": "display_data"
    },
    {
     "name": "stdout",
     "output_type": "stream",
     "text": [
      "\n",
      "\n",
      "Occurences dans le corpus: 50000\n"
     ]
    }
   ],
   "source": [
    "def clean_html(text):\n",
    "    \"\"\"\n",
    "    Remove HTML from a text.\n",
    "    \n",
    "    Args:\n",
    "        text(String): Row text with html \n",
    "             \n",
    "    Returns:\n",
    "        cleaned String\n",
    "    \"\"\"\n",
    "    import lxml\n",
    "    import html5lib\n",
    "    from bs4 import BeautifulSoup\n",
    " \n",
    "    soup = BeautifulSoup(text, \"html5lib\")\n",
    "\n",
    "    for sent in soup(['style', 'script']):\n",
    "            sent.decompose()\n",
    "   \n",
    "        \n",
    "    return ' '.join(soup.stripped_strings)\n",
    "\n",
    "corpus_wo_html = [clean_html(text) for text in corpus]\n",
    "\n",
    "print(\"Premier élément de la liste corpus sans html\\n\")\n",
    "display(corpus_wo_html[0])\n",
    "print(\"\\n\")\n",
    "\n",
    "print(f\"Occurences dans le corpus: {len(corpus_wo_html)}\")"
   ]
  },
  {
   "cell_type": "code",
   "execution_count": null,
   "id": "53efd479-32bd-4721-8570-4bd02729f844",
   "metadata": {},
   "outputs": [],
   "source": [
    "df['post_wo_html'] = df['Post'].apply(lambda text: clean_html(text))"
   ]
  },
  {
   "cell_type": "code",
   "execution_count": 4,
   "id": "87f626e8-b5ce-4a10-9333-0b4985684daa",
   "metadata": {},
   "outputs": [
    {
     "ename": "NameError",
     "evalue": "name 'df' is not defined",
     "output_type": "error",
     "traceback": [
      "\u001b[0;31m---------------------------------------------------------------------------\u001b[0m",
      "\u001b[0;31mNameError\u001b[0m                                 Traceback (most recent call last)",
      "\u001b[0;32m/tmp/ipykernel_23822/964094849.py\u001b[0m in \u001b[0;36m<module>\u001b[0;34m\u001b[0m\n\u001b[0;32m----> 1\u001b[0;31m \u001b[0mdf\u001b[0m\u001b[0;34m.\u001b[0m\u001b[0mhead\u001b[0m\u001b[0;34m(\u001b[0m\u001b[0;34m)\u001b[0m\u001b[0;34m\u001b[0m\u001b[0;34m\u001b[0m\u001b[0m\n\u001b[0m",
      "\u001b[0;31mNameError\u001b[0m: name 'df' is not defined"
     ]
    }
   ],
   "source": [
    "df.head()"
   ]
  },
  {
   "cell_type": "code",
   "execution_count": 13,
   "id": "b37b301e-36b2-4133-9d53-b4748eae743a",
   "metadata": {},
   "outputs": [
    {
     "data": {
      "text/plain": [
       "[1, 2, 3, 4, 15, 11, 12, 13, 14, 15]"
      ]
     },
     "execution_count": 13,
     "metadata": {},
     "output_type": "execute_result"
    }
   ],
   "source": [
    "# pip install spacy\n",
    "L = [[1,2,3,4,15],[11,12,13,14,15]]\n",
    "test = [a for aa in L for a in aa]\n",
    "test"
   ]
  },
  {
   "cell_type": "code",
   "execution_count": 2,
   "id": "d33eeff3-098a-49be-92c6-bb9b0355defd",
   "metadata": {},
   "outputs": [
    {
     "name": "stderr",
     "output_type": "stream",
     "text": [
      "[nltk_data] Downloading package stopwords to /home/babou/nltk_data...\n",
      "[nltk_data]   Package stopwords is already up-to-date!\n",
      "[nltk_data] Downloading package punkt to /home/babou/nltk_data...\n",
      "[nltk_data]   Package punkt is already up-to-date!\n",
      "[nltk_data] Downloading package wordnet to /home/babou/nltk_data...\n",
      "[nltk_data]   Package wordnet is already up-to-date!\n"
     ]
    },
    {
     "ename": "OSError",
     "evalue": "[E050] Can't find model 'en_core_web_md'. It doesn't seem to be a Python package or a valid path to a data directory.",
     "output_type": "error",
     "traceback": [
      "\u001b[0;31m---------------------------------------------------------------------------\u001b[0m",
      "\u001b[0;31mOSError\u001b[0m                                   Traceback (most recent call last)",
      "\u001b[0;32m/tmp/ipykernel_23822/328251292.py\u001b[0m in \u001b[0;36m<module>\u001b[0;34m\u001b[0m\n\u001b[1;32m     10\u001b[0m \u001b[0;34m\u001b[0m\u001b[0m\n\u001b[1;32m     11\u001b[0m \u001b[0;31m# Load the spaCy language model\u001b[0m\u001b[0;34m\u001b[0m\u001b[0;34m\u001b[0m\u001b[0;34m\u001b[0m\u001b[0m\n\u001b[0;32m---> 12\u001b[0;31m \u001b[0mnlp\u001b[0m \u001b[0;34m=\u001b[0m \u001b[0mspacy\u001b[0m\u001b[0;34m.\u001b[0m\u001b[0mload\u001b[0m\u001b[0;34m(\u001b[0m\u001b[0;34m\"en_core_web_md\"\u001b[0m\u001b[0;34m)\u001b[0m\u001b[0;34m\u001b[0m\u001b[0;34m\u001b[0m\u001b[0m\n\u001b[0m\u001b[1;32m     13\u001b[0m \u001b[0;34m\u001b[0m\u001b[0m\n\u001b[1;32m     14\u001b[0m \u001b[0;31m# Number of words in spaCy's English stopwords list\u001b[0m\u001b[0;34m\u001b[0m\u001b[0;34m\u001b[0m\u001b[0;34m\u001b[0m\u001b[0m\n",
      "\u001b[0;32m~/.local/lib/python3.8/site-packages/spacy/__init__.py\u001b[0m in \u001b[0;36mload\u001b[0;34m(name, vocab, disable, enable, exclude, config)\u001b[0m\n\u001b[1;32m     49\u001b[0m     \u001b[0mRETURNS\u001b[0m \u001b[0;34m(\u001b[0m\u001b[0mLanguage\u001b[0m\u001b[0;34m)\u001b[0m\u001b[0;34m:\u001b[0m \u001b[0mThe\u001b[0m \u001b[0mloaded\u001b[0m \u001b[0mnlp\u001b[0m \u001b[0mobject\u001b[0m\u001b[0;34m.\u001b[0m\u001b[0;34m\u001b[0m\u001b[0;34m\u001b[0m\u001b[0m\n\u001b[1;32m     50\u001b[0m     \"\"\"\n\u001b[0;32m---> 51\u001b[0;31m     return util.load_model(\n\u001b[0m\u001b[1;32m     52\u001b[0m         \u001b[0mname\u001b[0m\u001b[0;34m,\u001b[0m\u001b[0;34m\u001b[0m\u001b[0;34m\u001b[0m\u001b[0m\n\u001b[1;32m     53\u001b[0m         \u001b[0mvocab\u001b[0m\u001b[0;34m=\u001b[0m\u001b[0mvocab\u001b[0m\u001b[0;34m,\u001b[0m\u001b[0;34m\u001b[0m\u001b[0;34m\u001b[0m\u001b[0m\n",
      "\u001b[0;32m~/.local/lib/python3.8/site-packages/spacy/util.py\u001b[0m in \u001b[0;36mload_model\u001b[0;34m(name, vocab, disable, enable, exclude, config)\u001b[0m\n\u001b[1;32m    470\u001b[0m     \u001b[0;32mif\u001b[0m \u001b[0mname\u001b[0m \u001b[0;32min\u001b[0m \u001b[0mOLD_MODEL_SHORTCUTS\u001b[0m\u001b[0;34m:\u001b[0m\u001b[0;34m\u001b[0m\u001b[0;34m\u001b[0m\u001b[0m\n\u001b[1;32m    471\u001b[0m         \u001b[0;32mraise\u001b[0m \u001b[0mIOError\u001b[0m\u001b[0;34m(\u001b[0m\u001b[0mErrors\u001b[0m\u001b[0;34m.\u001b[0m\u001b[0mE941\u001b[0m\u001b[0;34m.\u001b[0m\u001b[0mformat\u001b[0m\u001b[0;34m(\u001b[0m\u001b[0mname\u001b[0m\u001b[0;34m=\u001b[0m\u001b[0mname\u001b[0m\u001b[0;34m,\u001b[0m \u001b[0mfull\u001b[0m\u001b[0;34m=\u001b[0m\u001b[0mOLD_MODEL_SHORTCUTS\u001b[0m\u001b[0;34m[\u001b[0m\u001b[0mname\u001b[0m\u001b[0;34m]\u001b[0m\u001b[0;34m)\u001b[0m\u001b[0;34m)\u001b[0m  \u001b[0;31m# type: ignore[index]\u001b[0m\u001b[0;34m\u001b[0m\u001b[0;34m\u001b[0m\u001b[0m\n\u001b[0;32m--> 472\u001b[0;31m     \u001b[0;32mraise\u001b[0m \u001b[0mIOError\u001b[0m\u001b[0;34m(\u001b[0m\u001b[0mErrors\u001b[0m\u001b[0;34m.\u001b[0m\u001b[0mE050\u001b[0m\u001b[0;34m.\u001b[0m\u001b[0mformat\u001b[0m\u001b[0;34m(\u001b[0m\u001b[0mname\u001b[0m\u001b[0;34m=\u001b[0m\u001b[0mname\u001b[0m\u001b[0;34m)\u001b[0m\u001b[0;34m)\u001b[0m\u001b[0;34m\u001b[0m\u001b[0;34m\u001b[0m\u001b[0m\n\u001b[0m\u001b[1;32m    473\u001b[0m \u001b[0;34m\u001b[0m\u001b[0m\n\u001b[1;32m    474\u001b[0m \u001b[0;34m\u001b[0m\u001b[0m\n",
      "\u001b[0;31mOSError\u001b[0m: [E050] Can't find model 'en_core_web_md'. It doesn't seem to be a Python package or a valid path to a data directory."
     ]
    }
   ],
   "source": [
    "# Tokenizer\n",
    "import nltk\n",
    "from nltk.tokenize import sent_tokenize, word_tokenize\n",
    "nltk.download('stopwords')\n",
    "nltk.download('punkt')\n",
    "nltk.download('wordnet')\n",
    "from nltk.corpus import stopwords\n",
    "# set(stopwords.words('english'))\n",
    "import spacy\n",
    "\n",
    "# Load the spaCy language model\n",
    "nlp = spacy.load(\"en_core_web_md\")\n",
    "\n",
    "# Number of words in spaCy's English stopwords list\n",
    "spacy_stopwords = set(spacy.lang.en.stop_words.STOP_WORDS)"
   ]
  },
  {
   "cell_type": "code",
   "execution_count": 3,
   "id": "2a40695d-c9e2-4c87-84fe-1401454746b2",
   "metadata": {},
   "outputs": [
    {
     "name": "stdout",
     "output_type": "stream",
     "text": [
      "/home/babou/PycharmProject/OC/Projet5/venv/bin/python\n"
     ]
    }
   ],
   "source": [
    "# !python3 -m spacy download en_core_web_lg\n",
    "# !python3 -m spacy download en_core_web_sm\n",
    "# !python3 -m spacy download en\n",
    "# ! python -m spacy download en_core_web_md\n",
    "# !which python\n",
    "# !pip install --upgrade pip\n",
    "# !export SPACY_HOME=/home/babou/PycharmProject/OC/Projet5/venv/bin/python"
   ]
  },
  {
   "cell_type": "code",
   "execution_count": null,
   "id": "c981ec54-4387-40e6-85e9-b5dc221cc82e",
   "metadata": {},
   "outputs": [],
   "source": [
    "# Tokenizer\n",
    "# import nltk\n",
    "# from nltk.tokenize import sent_tokenize, word_tokenize\n",
    "\n",
    "def tokenizer_fct(sentence) :\n",
    "    # print(sentence)\n",
    "    tokenizer = nltk.RegexpTokenizer(r'[a-zA-Z]{3,}')\n",
    "    sentence_clean = sentence.replace('-', ' ').replace('+', ' ').replace('/', ' ').replace('#', ' ')\n",
    "    word_tokens = tokenizer(sentence_clean.lower())\n",
    "    return word_tokens\n",
    "\n",
    "# Stop words\n",
    "# from nltk.corpus import stopwords\n",
    "stop_w = list(set(stopwords.words('english')).union(spacy_stopwords)) + ['[', ']', ',', '.', ':', '?', '(', ')']\n",
    "\n",
    "def stop_word_filter_fct(list_words) :\n",
    "    filtered_w = [w for w in list_words if not w in stop_w]\n",
    "    filtered_w2 = [w for w in filtered_w if len(w) > 2]\n",
    "    \n",
    "    return filtered_w2\n",
    "\n",
    "# lower case et alpha\n",
    "def lower_start_fct(list_words) :\n",
    "    lw = [w.lower() for w in list_words if (not w.startswith(\"@\")) \n",
    "    #                                   and (not w.startswith(\"#\"))\n",
    "                                       and (not w.startswith(\"http\"))]\n",
    "    return lw\n",
    "\n",
    "# Lemmatizer (base d'un mot)\n",
    "from nltk.stem import WordNetLemmatizer\n",
    "\n",
    "def lemma_fct(list_words) :\n",
    "    lemmatizer = WordNetLemmatizer()\n",
    "    lem_w = [lemmatizer.lemmatize(w) for w in list_words]\n",
    "    return lem_w\n",
    "\n",
    "# Fonction de préparation du texte pour le bag of words (Countvectorizer et Tf_idf, Word2Vec)\n",
    "def transform_bow_fct(desc_text) :\n",
    "    word_tokens = tokenizer_fct(desc_text)\n",
    "    sw = stop_word_filter_fct(word_tokens)\n",
    "    lw = lower_start_fct(sw)\n",
    "    # lem_w = lemma_fct(lw)    \n",
    "    transf_desc_text = ' '.join(lw)\n",
    "    return transf_desc_text\n",
    "\n",
    "# Fonction de préparation du texte pour le bag of words avec lemmatization\n",
    "def transform_bow_lem_fct(desc_text) :\n",
    "    word_tokens = tokenizer_fct(desc_text)\n",
    "    sw = stop_word_filter_fct(word_tokens)\n",
    "    lw = lower_start_fct(sw)\n",
    "    lem_w = lemma_fct(lw)    \n",
    "    transf_desc_text = ' '.join(lem_w)\n",
    "    return transf_desc_text\n",
    "\n",
    "# Fonction de préparation du texte pour le Deep learning (USE et BERT)\n",
    "def transform_dl_fct(desc_text) :\n",
    "    word_tokens = tokenizer_fct(desc_text)\n",
    "#    sw = stop_word_filter_fct(word_tokens)\n",
    "    lw = lower_start_fct(word_tokens)\n",
    "    # lem_w = lemma_fct(lw)    \n",
    "    transf_desc_text = ' '.join(lw)\n",
    "    return transf_desc_text\n",
    "\n",
    "df['sentence_bow'] = df['post_wo_html'].apply(lambda x : transform_bow_fct(x))\n",
    "df['sentence_bow_lem'] = df['post_wo_html'].apply(lambda x : transform_bow_lem_fct(x))\n",
    "df['sentence_dl'] = df['post_wo_html'].apply(lambda x : transform_dl_fct(x))\n",
    "df.shape"
   ]
  },
  {
   "cell_type": "code",
   "execution_count": null,
   "id": "7b23e8d7-98bd-4a64-8b24-e5e8e689ff86",
   "metadata": {},
   "outputs": [],
   "source": [
    "df.head()"
   ]
  },
  {
   "cell_type": "code",
   "execution_count": null,
   "id": "338160ac-e12d-4e4e-8ca2-713d25c336e0",
   "metadata": {},
   "outputs": [],
   "source": [
    "df['sentence_bow'][1]"
   ]
  },
  {
   "cell_type": "code",
   "execution_count": null,
   "id": "6876febc-0e43-49cb-ba46-7bd47324de2c",
   "metadata": {},
   "outputs": [],
   "source": [
    "df['sentence_bow_lem'][1]"
   ]
  },
  {
   "cell_type": "code",
   "execution_count": null,
   "id": "d43d689f-1e68-499b-bebd-c4c4939554a5",
   "metadata": {},
   "outputs": [],
   "source": [
    "df['sentence_dl'][1]"
   ]
  },
  {
   "cell_type": "code",
   "execution_count": null,
   "id": "9bdee8e1-e9ac-4d04-8996-2a65017114f8",
   "metadata": {},
   "outputs": [],
   "source": [
    "from sklearn.feature_extraction.text import CountVectorizer\n",
    "\n",
    "# the vectorizer object will be used to transform text to vector form\n",
    "vectorizer = CountVectorizer(max_df=0.9, min_df=25, token_pattern='\\w+|\\$[\\d\\.]+|\\S+')\n",
    "\n",
    "# apply transformation\n",
    "tf = vectorizer.fit_transform(df['sentence_bow'][:100]).toarray()\n",
    "\n",
    "# tf_feature_names tells us what word each column in the matric represents\n",
    "tf_feature_names = vectorizer.get_feature_names_out()\n"
   ]
  },
  {
   "cell_type": "code",
   "execution_count": null,
   "id": "e7ec094f-f88d-40e7-8f0b-0d88ee18fd4b",
   "metadata": {},
   "outputs": [],
   "source": [
    "from sklearn.decomposition import LatentDirichletAllocation\n",
    "\n",
    "number_of_topics = 5\n",
    "\n",
    "model = LatentDirichletAllocation(n_components=number_of_topics, random_state=0)\n"
   ]
  },
  {
   "cell_type": "code",
   "execution_count": null,
   "id": "7247669f-8953-4fa3-9af9-26b217d7bcd5",
   "metadata": {},
   "outputs": [],
   "source": [
    "model.fit(tf)\n"
   ]
  },
  {
   "cell_type": "code",
   "execution_count": null,
   "id": "18467c50-8788-44d5-820d-1eea17cc0411",
   "metadata": {},
   "outputs": [],
   "source": [
    "def display_topics(model, feature_names, no_top_words):\n",
    "    topic_dict = {}\n",
    "    for topic_idx, topic in enumerate(model.components_):\n",
    "        topic_dict[\"Topic %d words\" % (topic_idx)]= ['{}'.format(feature_names[i])\n",
    "                        for i in topic.argsort()[:-no_top_words - 1:-1]]\n",
    "        topic_dict[\"Topic %d weights\" % (topic_idx)]= ['{:.1f}'.format(topic[i])\n",
    "                        for i in topic.argsort()[:-no_top_words - 1:-1]]\n",
    "    return pd.DataFrame(topic_dict)\n"
   ]
  },
  {
   "cell_type": "code",
   "execution_count": null,
   "id": "9b91f822-2936-4790-8f67-45d3ea39d2be",
   "metadata": {},
   "outputs": [],
   "source": [
    "no_top_words = 100\n",
    "display_topics(model, tf_feature_names, no_top_words)\n"
   ]
  },
  {
   "cell_type": "code",
   "execution_count": null,
   "id": "414c6dc0-cda5-46be-8674-a27d3db02530",
   "metadata": {},
   "outputs": [],
   "source": []
  },
  {
   "cell_type": "code",
   "execution_count": null,
   "id": "7819fc1e-c497-46a1-be6a-5771bd7e1b6e",
   "metadata": {},
   "outputs": [],
   "source": []
  }
 ],
 "metadata": {
  "kernelspec": {
   "display_name": "Python 3 (ipykernel)",
   "language": "python",
   "name": "python3"
  },
  "language_info": {
   "codemirror_mode": {
    "name": "ipython",
    "version": 3
   },
   "file_extension": ".py",
   "mimetype": "text/x-python",
   "name": "python",
   "nbconvert_exporter": "python",
   "pygments_lexer": "ipython3",
   "version": "3.8.10"
  }
 },
 "nbformat": 4,
 "nbformat_minor": 5
}
